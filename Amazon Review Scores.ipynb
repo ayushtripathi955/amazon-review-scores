{
 "cells": [
  {
   "cell_type": "markdown",
   "metadata": {},
   "source": [
    "# DDR Assignment 5.2\n",
    "\n",
    "### Team Members - Group 17\n",
    "\n",
    "- Nidhi Patni\n",
    "- Aravind Venugopal\n",
    "- Jacky Xie\n",
    "- Ayush Tripathi"
   ]
  },
  {
   "cell_type": "markdown",
   "metadata": {
    "toc": true
   },
   "source": [
    "<h1>Table of Contents<span class=\"tocSkip\"></span></h1>\n",
    "<div class=\"toc\"><ul class=\"toc-item\"><li><span><a href=\"#DDR-Assignment-5.2\" data-toc-modified-id=\"DDR-Assignment-5.2-1\">DDR Assignment 5.2</a></span><ul class=\"toc-item\"><li><ul class=\"toc-item\"><li><span><a href=\"#Team-Members---Group-17\" data-toc-modified-id=\"Team-Members---Group-17-1.0.1\">Team Members - Group 17</a></span></li></ul></li><li><span><a href=\"#1.-Create-a-MongoDB-database-called-&quot;amazon&quot;.\" data-toc-modified-id=\"1.-Create-a-MongoDB-database-called-&quot;amazon&quot;.-1.1\">1. Create a MongoDB database called \"amazon\".</a></span></li><li><span><a href=\"#2.-Read-&quot;reviews_electronics.16.json&quot;-and-uploads-each-review-as-a-separate-document-to-the-collection-&quot;reviews&quot;-in-the-database-&quot;amazon&quot;.\" data-toc-modified-id=\"2.-Read-&quot;reviews_electronics.16.json&quot;-and-uploads-each-review-as-a-separate-document-to-the-collection-&quot;reviews&quot;-in-the-database-&quot;amazon&quot;.-1.2\">2. Read \"reviews_electronics.16.json\" and uploads each review as a separate document to the collection \"reviews\" in the database \"amazon\".</a></span></li><li><span><a href=\"#3.-Uses-MongoDB's-map-reduce-function-to-build-a-new-collection-&quot;avg_scores&quot;-that-averages-review-scores-by-product-(&quot;asin&quot;).-Print-the-first-100-entries-of-&quot;avg_scores&quot;-to-screen.\" data-toc-modified-id=\"3.-Uses-MongoDB's-map-reduce-function-to-build-a-new-collection-&quot;avg_scores&quot;-that-averages-review-scores-by-product-(&quot;asin&quot;).-Print-the-first-100-entries-of-&quot;avg_scores&quot;-to-screen.-1.3\">3. Uses MongoDB's map reduce function to build a new collection \"avg_scores\" that averages review scores by product (\"asin\"). Print the first 100 entries of \"avg_scores\" to screen.</a></span></li><li><span><a href=\"#4.-Use-MongoDB's-map-reduce-function-to-build-a-new-collection-&quot;weighted_avg_scores&quot;-that-averages-review-scores-by-product-(&quot;asin&quot;),-weighted-by-the-number-of-helpful-votes-(The-base-weight-is-1-and-for-every-additional-helpful-vote-add-1-to-weight.\" data-toc-modified-id=\"4.-Use-MongoDB's-map-reduce-function-to-build-a-new-collection-&quot;weighted_avg_scores&quot;-that-averages-review-scores-by-product-(&quot;asin&quot;),-weighted-by-the-number-of-helpful-votes-(The-base-weight-is-1-and-for-every-additional-helpful-vote-add-1-to-weight.-1.4\">4. Use MongoDB's map reduce function to build a new collection \"weighted_avg_scores\" that averages review scores by product (\"asin\"), weighted by the number of helpful votes (The base weight is 1 and for every additional helpful vote add 1 to weight.</a></span></li></ul></li></ul></div>"
   ]
  },
  {
   "cell_type": "code",
   "execution_count": 1,
   "metadata": {
    "ExecuteTime": {
     "end_time": "2020-02-19T22:36:16.174734Z",
     "start_time": "2020-02-19T22:36:14.674718Z"
    }
   },
   "outputs": [],
   "source": [
    "import pymongo, json\n",
    "from tqdm import tqdm\n",
    "from datetime import datetime, date\n",
    "import pandas as pd\n",
    "from bson.code import Code"
   ]
  },
  {
   "cell_type": "markdown",
   "metadata": {},
   "source": [
    "## 1. Create a MongoDB database called \"amazon\"."
   ]
  },
  {
   "cell_type": "code",
   "execution_count": 14,
   "metadata": {
    "ExecuteTime": {
     "end_time": "2020-02-19T23:19:21.479373Z",
     "start_time": "2020-02-19T23:19:21.378493Z"
    }
   },
   "outputs": [],
   "source": [
    "# Initialize MongoDB client\n",
    "client = pymongo.MongoClient(\"mongodb://localhost:27017/\")\n",
    "\n",
    "# create the database\n",
    "db = client[\"amazon\"]\n",
    "\n",
    "# create the collection\n",
    "col = db[\"reviews\"]"
   ]
  },
  {
   "cell_type": "markdown",
   "metadata": {},
   "source": [
    "## 2. Read \"reviews_electronics.16.json\" and uploads each review as a separate document to the collection \"reviews\" in the database \"amazon\"."
   ]
  },
  {
   "cell_type": "code",
   "execution_count": 2,
   "metadata": {
    "ExecuteTime": {
     "end_time": "2020-02-19T22:36:31.220612Z",
     "start_time": "2020-02-19T22:36:24.494112Z"
    }
   },
   "outputs": [],
   "source": [
    "# Parse the json file into a python object to iterate over\n",
    "data = pd.read_json('reviews_electronics.16.json', typ = 'series', lines = True)\n",
    "list_data = data.tolist()"
   ]
  },
  {
   "cell_type": "code",
   "execution_count": 50,
   "metadata": {
    "ExecuteTime": {
     "end_time": "2020-02-18T22:56:51.757382Z",
     "start_time": "2020-02-18T22:56:44.793010Z"
    }
   },
   "outputs": [
    {
     "name": "stderr",
     "output_type": "stream",
     "text": [
      "100%|███████████████████████████████████████████████████████████████████████| 324546/324546 [00:06<00:00, 46787.36it/s]\n"
     ]
    }
   ],
   "source": [
    "# Convert date strings to datetime objects supported by MongoDB\n",
    "for review in tqdm(list_data):\n",
    "    review['reviewTime'] = datetime.strptime(review['reviewTime'],'%m %d, %Y')\n",
    "    review['unixReviewTime'] = datetime.utcfromtimestamp(review['unixReviewTime'])"
   ]
  },
  {
   "cell_type": "code",
   "execution_count": 51,
   "metadata": {
    "ExecuteTime": {
     "end_time": "2020-02-18T22:57:45.416306Z",
     "start_time": "2020-02-18T22:57:28.698292Z"
    }
   },
   "outputs": [],
   "source": [
    "# Bulk insert the data as documents into the local MongoDB instance\n",
    "result = col.insert_many(list_data)"
   ]
  },
  {
   "cell_type": "markdown",
   "metadata": {},
   "source": [
    "## 3. Uses MongoDB's map reduce function to build a new collection \"avg_scores\" that averages review scores by product (\"asin\"). Print the first 100 entries of \"avg_scores\" to screen."
   ]
  },
  {
   "cell_type": "code",
   "execution_count": 65,
   "metadata": {
    "ExecuteTime": {
     "end_time": "2020-02-18T23:49:23.204816Z",
     "start_time": "2020-02-18T23:49:13.037127Z"
    }
   },
   "outputs": [],
   "source": [
    "# Define Map, reduce and query functions\n",
    "map_ = Code(\"\"\"function(){emit(this.asin, this.overall)}\"\"\")\n",
    "reduce = Code(\"\"\"function(key,value){\n",
    "    return Array.avg(value)\n",
    "}\"\"\")\n",
    "query = {\"overall\":{'$exists':1}}\n",
    "results = col.map_reduce(map_, reduce,\"avg_scores\" ,query = query)"
   ]
  },
  {
   "cell_type": "code",
   "execution_count": 68,
   "metadata": {
    "ExecuteTime": {
     "end_time": "2020-02-18T23:58:33.715029Z",
     "start_time": "2020-02-18T23:58:33.582622Z"
    },
    "scrolled": true
   },
   "outputs": [
    {
     "name": "stdout",
     "output_type": "stream",
     "text": [
      "{'_id': '0132793040', 'value': 5.0}\n",
      "{'_id': 'B00E4KP4W6', 'value': 4.545454545454546}\n",
      "{'_id': 'B00E4KP8VI', 'value': 5.0}\n",
      "{'_id': 'B00E4KPMC8', 'value': 2.0}\n",
      "{'_id': 'B00E4KQ5C4', 'value': 5.0}\n",
      "{'_id': 'B00E4KQ9GG', 'value': 3.2857142857142856}\n",
      "{'_id': 'B00E4KQ9K2', 'value': 5.0}\n",
      "{'_id': 'B00E4KQD4E', 'value': 4.0}\n",
      "{'_id': 'B00E4KZBX8', 'value': 4.0}\n",
      "{'_id': 'B00E4KZDJ0', 'value': 5.0}\n",
      "{'_id': 'B00E4L35DA', 'value': 4.0}\n",
      "{'_id': 'B00E4L3N9Q', 'value': 4.0}\n",
      "{'_id': 'B00E4L48EA', 'value': 5.0}\n",
      "{'_id': 'B00E4L7FLI', 'value': 1.0}\n",
      "{'_id': 'B00E4L7TS2', 'value': 4.0}\n",
      "{'_id': 'B00E4LAL82', 'value': 3.0}\n",
      "{'_id': 'B00E4LBZZK', 'value': 5.0}\n",
      "{'_id': 'B00E4LF2Z4', 'value': 4.333333333333333}\n",
      "{'_id': 'B00E4LFP0G', 'value': 4.444444444444445}\n",
      "{'_id': 'B00E4LFWWW', 'value': 4.4}\n",
      "{'_id': 'B00E4LGTVU', 'value': 4.195658625514055}\n",
      "{'_id': 'B00E4LGTXS', 'value': 3.923076923076923}\n",
      "{'_id': 'B00E4LGVYA', 'value': 3.272727272727273}\n",
      "{'_id': 'B00E4LGWLW', 'value': 3.5}\n",
      "{'_id': 'B00E4LGXL6', 'value': 5.0}\n",
      "{'_id': 'B00E4LGY88', 'value': 3.8421052631578947}\n",
      "{'_id': 'B00E4LI86O', 'value': 1.0}\n",
      "{'_id': 'B00E4LJ8VI', 'value': 1.6666666666666667}\n",
      "{'_id': 'B00E4LQ9B0', 'value': 1.0}\n",
      "{'_id': 'B00E4M2K08', 'value': 5.0}\n",
      "{'_id': 'B00E4M3KW0', 'value': 4.0}\n",
      "{'_id': 'B00E4M9H40', 'value': 3.3333333333333335}\n",
      "{'_id': 'B00E4MC3LO', 'value': 2.0}\n",
      "{'_id': 'B00E4MHBOI', 'value': 3.0}\n",
      "{'_id': 'B00E4ML766', 'value': 5.0}\n",
      "{'_id': 'B00E4MNXYA', 'value': 5.0}\n",
      "{'_id': 'B00E4MQO8C', 'value': 4.933333333333334}\n",
      "{'_id': 'B00E4MQODW', 'value': 2.6666666666666665}\n",
      "{'_id': 'B00E4MQOE6', 'value': 4.611111111111111}\n",
      "{'_id': 'B00E4MT07Y', 'value': 1.6}\n",
      "{'_id': 'B00E4MVHTI', 'value': 3.9}\n",
      "{'_id': 'B00E4MYDTY', 'value': 4.538461538461538}\n",
      "{'_id': 'B00E4NC912', 'value': 5.0}\n",
      "{'_id': 'B00E4O3CD0', 'value': 4.0}\n",
      "{'_id': 'B00E4O7EO8', 'value': 4.2}\n",
      "{'_id': 'B00E4OCCJK', 'value': 5.0}\n",
      "{'_id': 'B00E4OCECU', 'value': 3.0}\n",
      "{'_id': 'B00E4OHBNM', 'value': 4.0}\n",
      "{'_id': 'B00E4OHRJ0', 'value': 4.0}\n",
      "{'_id': 'B00E4OI5H8', 'value': 5.0}\n",
      "{'_id': 'B00E4OKJKY', 'value': 5.0}\n",
      "{'_id': 'B00E4OKJUE', 'value': 1.0}\n",
      "{'_id': 'B00E4OKZA8', 'value': 5.0}\n",
      "{'_id': 'B00E4ON1YK', 'value': 5.0}\n",
      "{'_id': 'B00E4OSIO8', 'value': 5.0}\n",
      "{'_id': 'B00E4PM406', 'value': 4.0}\n",
      "{'_id': 'B00E4PMDIO', 'value': 5.0}\n",
      "{'_id': 'B00E4POW42', 'value': 5.0}\n",
      "{'_id': 'B00E4PP8PY', 'value': 4.0}\n",
      "{'_id': 'B00E4QD7D8', 'value': 4.0}\n",
      "{'_id': 'B00E4QM3TC', 'value': 1.0}\n",
      "{'_id': 'B00E4QX5J4', 'value': 2.0}\n",
      "{'_id': 'B00E4RD4VC', 'value': 4.375}\n",
      "{'_id': 'B00E4RIYPI', 'value': 4.5}\n",
      "{'_id': 'B00E4RKKVY', 'value': 4.0}\n",
      "{'_id': 'B00E4RS3DG', 'value': 4.5}\n",
      "{'_id': 'B00E4RUZGO', 'value': 2.0}\n",
      "{'_id': 'B00E4RZOQ0', 'value': 5.0}\n",
      "{'_id': 'B00E4RZQM2', 'value': 2.6}\n",
      "{'_id': 'B00E4RZU00', 'value': 4.0}\n",
      "{'_id': 'B00E4RZV6S', 'value': 3.75}\n",
      "{'_id': 'B00E4RZW44', 'value': 3.0}\n",
      "{'_id': 'B00E4RZYMO', 'value': 1.0}\n",
      "{'_id': 'B00E4S5BQ2', 'value': 5.0}\n",
      "{'_id': 'B00E4SDU0Q', 'value': 1.0}\n",
      "{'_id': 'B00E4SEBAY', 'value': 5.0}\n",
      "{'_id': 'B00E4SPPHW', 'value': 3.6666666666666665}\n",
      "{'_id': 'B00E4T58NC', 'value': 2.676470588235294}\n",
      "{'_id': 'B00E4T699E', 'value': 3.0}\n",
      "{'_id': 'B00E4T69DK', 'value': 5.0}\n",
      "{'_id': 'B00E4T6MWI', 'value': 2.0}\n",
      "{'_id': 'B00E4T7GP0', 'value': 2.0}\n",
      "{'_id': 'B00E4T7VOG', 'value': 5.0}\n",
      "{'_id': 'B00E4T8XZC', 'value': 4.666666666666667}\n",
      "{'_id': 'B00E4TADN2', 'value': 3.0}\n",
      "{'_id': 'B00E4TASKK', 'value': 3.5}\n",
      "{'_id': 'B00E4TBST0', 'value': 5.0}\n",
      "{'_id': 'B00E4TEKC2', 'value': 5.0}\n",
      "{'_id': 'B00E4TKYOU', 'value': 5.0}\n",
      "{'_id': 'B00E4TN3MA', 'value': 1.0}\n",
      "{'_id': 'B00E4TOWR0', 'value': 3.0}\n",
      "{'_id': 'B00E4TV36I', 'value': 5.0}\n",
      "{'_id': 'B00E4TWMWC', 'value': 1.0}\n",
      "{'_id': 'B00E4U83B0', 'value': 3.1333333333333333}\n",
      "{'_id': 'B00E4UA7SW', 'value': 4.571428571428571}\n",
      "{'_id': 'B00E4UD9TQ', 'value': 4.666666666666667}\n",
      "{'_id': 'B00E4UGIVC', 'value': 3.0}\n",
      "{'_id': 'B00E4UGJV6', 'value': 4.0}\n",
      "{'_id': 'B00E4UIU1I', 'value': 5.0}\n",
      "{'_id': 'B00E4UVVYG', 'value': 5.0}\n"
     ]
    }
   ],
   "source": [
    "# Print out the top 100 results\n",
    "for res in results.find().limit(100):\n",
    "    print(res)"
   ]
  },
  {
   "cell_type": "markdown",
   "metadata": {},
   "source": [
    "## 4. Use MongoDB's map reduce function to build a new collection \"weighted_avg_scores\" that averages review scores by product (\"asin\"), weighted by the number of helpful votes (The base weight is 1 and for every additional helpful vote add 1 to weight.\n",
    "e.g. a \"[3, 5]\" value on \"helpful\" column should use 3 + 1 = 4 as weight, 3 being the additional votes and 1 being the base weight). Print the first 100 entries of \"weighted_avg_scores\" to screen."
   ]
  },
  {
   "cell_type": "code",
   "execution_count": 29,
   "metadata": {
    "ExecuteTime": {
     "end_time": "2020-02-20T20:31:36.861157Z",
     "start_time": "2020-02-20T20:31:20.130769Z"
    },
    "scrolled": true
   },
   "outputs": [
    {
     "name": "stdout",
     "output_type": "stream",
     "text": [
      "{'_id': '0132793040', 'value': 5.0}\n",
      "{'_id': 'B00E4KP4W6', 'value': 4.647058823529412}\n",
      "{'_id': 'B00E4KP8VI', 'value': 5.0}\n",
      "{'_id': 'B00E4KPMC8', 'value': 2.0}\n",
      "{'_id': 'B00E4KQ5C4', 'value': 5.0}\n",
      "{'_id': 'B00E4KQ9GG', 'value': 3.642857142857143}\n",
      "{'_id': 'B00E4KQ9K2', 'value': 5.0}\n",
      "{'_id': 'B00E4KQD4E', 'value': 4.0}\n",
      "{'_id': 'B00E4KZBX8', 'value': 4.0}\n",
      "{'_id': 'B00E4KZDJ0', 'value': 5.0}\n",
      "{'_id': 'B00E4L35DA', 'value': 2.8181818181818183}\n",
      "{'_id': 'B00E4L3N9Q', 'value': 4.0}\n",
      "{'_id': 'B00E4L48EA', 'value': 5.0}\n",
      "{'_id': 'B00E4L7FLI', 'value': 1.0}\n",
      "{'_id': 'B00E4L7TS2', 'value': 4.0}\n",
      "{'_id': 'B00E4LAL82', 'value': 3.0}\n",
      "{'_id': 'B00E4LBZZK', 'value': 5.0}\n",
      "{'_id': 'B00E4LF2Z4', 'value': 4.083333333333333}\n",
      "{'_id': 'B00E4LFP0G', 'value': 4.454545454545454}\n",
      "{'_id': 'B00E4LFWWW', 'value': 5.0}\n",
      "{'_id': 'B00E4LGTVU', 'value': 4.379679144385027}\n",
      "{'_id': 'B00E4LGTXS', 'value': 3.857142857142857}\n",
      "{'_id': 'B00E4LGVYA', 'value': 3.9411764705882355}\n",
      "{'_id': 'B00E4LGWLW', 'value': 3.9}\n",
      "{'_id': 'B00E4LGXL6', 'value': 5.0}\n",
      "{'_id': 'B00E4LGY88', 'value': 4.2387096774193544}\n",
      "{'_id': 'B00E4LI86O', 'value': 1.0}\n",
      "{'_id': 'B00E4LJ8VI', 'value': 2.0}\n",
      "{'_id': 'B00E4LQ9B0', 'value': 1.0}\n",
      "{'_id': 'B00E4M2K08', 'value': 5.0}\n",
      "{'_id': 'B00E4M3KW0', 'value': 4.0}\n",
      "{'_id': 'B00E4M9H40', 'value': 3.6666666666666665}\n",
      "{'_id': 'B00E4MC3LO', 'value': 2.0}\n",
      "{'_id': 'B00E4MHBOI', 'value': 3.0}\n",
      "{'_id': 'B00E4ML766', 'value': 5.0}\n",
      "{'_id': 'B00E4MNXYA', 'value': 5.0}\n",
      "{'_id': 'B00E4MQO8C', 'value': 5.0}\n",
      "{'_id': 'B00E4MQODW', 'value': 3.1538461538461537}\n",
      "{'_id': 'B00E4MQOE6', 'value': 4.658536585365853}\n",
      "{'_id': 'B00E4MT07Y', 'value': 1.2666666666666666}\n",
      "{'_id': 'B00E4MVHTI', 'value': 4.2}\n",
      "{'_id': 'B00E4MYDTY', 'value': 4.619047619047619}\n",
      "{'_id': 'B00E4NC912', 'value': 5.0}\n",
      "{'_id': 'B00E4O3CD0', 'value': 4.0}\n",
      "{'_id': 'B00E4O7EO8', 'value': 4.333333333333333}\n",
      "{'_id': 'B00E4OCCJK', 'value': 5.0}\n",
      "{'_id': 'B00E4OCECU', 'value': 3.6666666666666665}\n",
      "{'_id': 'B00E4OHBNM', 'value': 4.0}\n",
      "{'_id': 'B00E4OHRJ0', 'value': 4.0}\n",
      "{'_id': 'B00E4OI5H8', 'value': 5.0}\n",
      "{'_id': 'B00E4OKJKY', 'value': 5.0}\n",
      "{'_id': 'B00E4OKJUE', 'value': 1.0}\n",
      "{'_id': 'B00E4OKZA8', 'value': 5.0}\n",
      "{'_id': 'B00E4ON1YK', 'value': 5.0}\n",
      "{'_id': 'B00E4OSIO8', 'value': 5.0}\n",
      "{'_id': 'B00E4PM406', 'value': 4.0}\n",
      "{'_id': 'B00E4PMDIO', 'value': 5.0}\n",
      "{'_id': 'B00E4POW42', 'value': 5.0}\n",
      "{'_id': 'B00E4PP8PY', 'value': 4.0}\n",
      "{'_id': 'B00E4QD7D8', 'value': 4.0}\n",
      "{'_id': 'B00E4QM3TC', 'value': 1.0}\n",
      "{'_id': 'B00E4QX5J4', 'value': 2.0}\n",
      "{'_id': 'B00E4RD4VC', 'value': 4.523809523809524}\n",
      "{'_id': 'B00E4RIYPI', 'value': 4.0}\n",
      "{'_id': 'B00E4RKKVY', 'value': 4.0}\n",
      "{'_id': 'B00E4RS3DG', 'value': 4.0}\n",
      "{'_id': 'B00E4RUZGO', 'value': 2.5555555555555554}\n",
      "{'_id': 'B00E4RZOQ0', 'value': 5.0}\n",
      "{'_id': 'B00E4RZQM2', 'value': 2.0}\n",
      "{'_id': 'B00E4RZU00', 'value': 3.8461538461538463}\n",
      "{'_id': 'B00E4RZV6S', 'value': 3.3333333333333335}\n",
      "{'_id': 'B00E4RZW44', 'value': 1.0}\n",
      "{'_id': 'B00E4RZYMO', 'value': 1.0}\n",
      "{'_id': 'B00E4S5BQ2', 'value': 5.0}\n",
      "{'_id': 'B00E4SDU0Q', 'value': 1.0}\n",
      "{'_id': 'B00E4SEBAY', 'value': 5.0}\n",
      "{'_id': 'B00E4SPPHW', 'value': 2.740740740740741}\n",
      "{'_id': 'B00E4T58NC', 'value': 3.2195121951219514}\n",
      "{'_id': 'B00E4T699E', 'value': 3.0}\n",
      "{'_id': 'B00E4T69DK', 'value': 5.0}\n",
      "{'_id': 'B00E4T6MWI', 'value': 2.0}\n",
      "{'_id': 'B00E4T7GP0', 'value': 2.0}\n",
      "{'_id': 'B00E4T7VOG', 'value': 5.0}\n",
      "{'_id': 'B00E4T8XZC', 'value': 4.913043478260869}\n",
      "{'_id': 'B00E4TADN2', 'value': 3.0}\n",
      "{'_id': 'B00E4TASKK', 'value': 4.0}\n",
      "{'_id': 'B00E4TBST0', 'value': 5.0}\n",
      "{'_id': 'B00E4TEKC2', 'value': 5.0}\n",
      "{'_id': 'B00E4TKYOU', 'value': 5.0}\n",
      "{'_id': 'B00E4TN3MA', 'value': 1.0}\n",
      "{'_id': 'B00E4TOWR0', 'value': 3.6666666666666665}\n",
      "{'_id': 'B00E4TV36I', 'value': 5.0}\n",
      "{'_id': 'B00E4TWMWC', 'value': 1.0}\n",
      "{'_id': 'B00E4U83B0', 'value': 2.689655172413793}\n",
      "{'_id': 'B00E4UA7SW', 'value': 4.75}\n",
      "{'_id': 'B00E4UD9TQ', 'value': 4.5}\n",
      "{'_id': 'B00E4UGIVC', 'value': 3.0}\n",
      "{'_id': 'B00E4UGJV6', 'value': 4.0}\n",
      "{'_id': 'B00E4UIU1I', 'value': 5.0}\n",
      "{'_id': 'B00E4UVVYG', 'value': 5.0}\n"
     ]
    }
   ],
   "source": [
    "# Define Map, reduce and query functions\n",
    "map_ = Code(\"\"\"function(){emit(this.asin, {weighted:this.overall*(this.helpful[0]+1),weight:(this.helpful[0]+1)})}\"\"\")\n",
    "reduce = Code(\"\"\"function (key, values) {\n",
    "    var a = {\"weighted\":0,\"weight\":0};\n",
    "    for (var i=1; i < values.length; i++){\n",
    "        var b = values[i];\n",
    "        \n",
    "        a.weighted += b.weighted;\n",
    "        a.weight+= b.weight;\n",
    "    }\n",
    "\n",
    "    return a;\n",
    "}\"\"\")\n",
    "finalize = Code(\"\"\"function (key, value){ \n",
    "    return (value.weighted/value.weight);\n",
    "}\"\"\")\n",
    "query = {\"overall\":{'$exists':1}}\n",
    "results = col.map_reduce(map_, reduce,\"weighted_avg_scores\" ,query = query,finalize = finalize)\n",
    "\n",
    "\n",
    "# print out top 100 results\n",
    "for res in results.find().limit(100):\n",
    "    print(res)"
   ]
  },
  {
   "cell_type": "markdown",
   "metadata": {},
   "source": [
    "<img src=\"https://userscontent2.emaze.com/images/34cd88bd-153a-4481-8fef-2116b9fbd8ad/ae4c5bb012f3b8b25ee145d04be7ecc5.png\" alt=\"drawing\" width=\"120\" align=\"centre\"/>"
   ]
  }
 ],
 "metadata": {
  "kernelspec": {
   "display_name": "Python 3",
   "language": "python",
   "name": "python3"
  },
  "language_info": {
   "codemirror_mode": {
    "name": "ipython",
    "version": 3
   },
   "file_extension": ".py",
   "mimetype": "text/x-python",
   "name": "python",
   "nbconvert_exporter": "python",
   "pygments_lexer": "ipython3",
   "version": "3.7.3"
  },
  "toc": {
   "base_numbering": 1,
   "nav_menu": {},
   "number_sections": false,
   "sideBar": true,
   "skip_h1_title": false,
   "title_cell": "Table of Contents",
   "title_sidebar": "Contents",
   "toc_cell": true,
   "toc_position": {},
   "toc_section_display": true,
   "toc_window_display": true
  },
  "varInspector": {
   "cols": {
    "lenName": 16,
    "lenType": 16,
    "lenVar": 40
   },
   "kernels_config": {
    "python": {
     "delete_cmd_postfix": "",
     "delete_cmd_prefix": "del ",
     "library": "var_list.py",
     "varRefreshCmd": "print(var_dic_list())"
    },
    "r": {
     "delete_cmd_postfix": ") ",
     "delete_cmd_prefix": "rm(",
     "library": "var_list.r",
     "varRefreshCmd": "cat(var_dic_list()) "
    }
   },
   "position": {
    "height": "218.212px",
    "left": "1763.33px",
    "right": "20px",
    "top": "120px",
    "width": "350px"
   },
   "types_to_exclude": [
    "module",
    "function",
    "builtin_function_or_method",
    "instance",
    "_Feature"
   ],
   "window_display": true
  }
 },
 "nbformat": 4,
 "nbformat_minor": 2
}
